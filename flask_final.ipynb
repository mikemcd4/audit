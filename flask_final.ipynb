{
 "cells": [
  {
   "cell_type": "code",
   "execution_count": null,
   "id": "d5873354",
   "metadata": {},
   "outputs": [],
   "source": [
    "from flask import Flask, request, render_template\n",
    "import pandas as pd\n",
    "\n",
    "app = Flask(__name__)\n",
    "\n",
    "@app.route('/', methods=['GET', 'POST'])\n",
    "def home():\n",
    "    if request.method == 'POST':\n",
    "        # Get the uploaded CSV file\n",
    "        file = request.files['file']\n",
    "        # Read the CSV file into a pandas DataFrame\n",
    "        df = pd.read_csv(file)\n",
    "\n",
    "        # Drop the columns\n",
    "        df = df.drop(columns=['start', 'end'])\n",
    "\n",
    "        # Remove duplicates\n",
    "        df = df.drop_duplicates()\n",
    "\n",
    "        # Create boolean to delete non recurring meetings + ones with attendee is 1\n",
    "        mask = (df['attendees'] == 1) | (df['recurring'] == 'no')\n",
    "\n",
    "        # drop rows captured by boolean\n",
    "        df.drop(df[mask].index, inplace=True)\n",
    "\n",
    "        # Drop the recurring column\n",
    "        df = df.drop(columns=['recurring'])\n",
    "\n",
    "        # Create a new  1:1's DataFrame with rows where attendees is equal to 2\n",
    "        new_df = df[df['attendees'] == 2]\n",
    "\n",
    "        # Move the new 1:1's dataframe to a new file\n",
    "        new_df.to_csv('1on1s.csv', index=False, index_label='One on Ones')\n",
    "\n",
    "        # Drop 1:1's from original file\n",
    "        mask2 = (df['attendees'] == 2)\n",
    "\n",
    "        df.drop(df[mask2].index, inplace=True)\n",
    "\n",
    "        # Sort recurring meetings sheet by cadence\n",
    "        df = df.sort_values(by='recurrence')\n",
    "\n",
    "        # Sort 1:1's by cadence\n",
    "        new_df = new_df.sort_values(by='recurrence')\n",
    "\n",
    "        # Save 1:1's sheet\n",
    "        new_df.to_csv('1on1s.csv', index=False)\n",
    "\n",
    "        # Save recurring meetings sheet\n",
    "        df.to_csv('recurring_mtgs.csv', index=False)\n",
    "\n",
    "        return 'Success'\n",
    "    return render_template('home.html')\n",
    "\n",
    "if __name__ == '__main__':\n",
    "    app.run()\n"
   ]
  },
  {
   "cell_type": "code",
   "execution_count": null,
   "id": "772a85d9",
   "metadata": {},
   "outputs": [],
   "source": []
  }
 ],
 "metadata": {
  "kernelspec": {
   "display_name": "PythonData",
   "language": "python",
   "name": "pythondata"
  },
  "language_info": {
   "codemirror_mode": {
    "name": "ipython",
    "version": 3
   },
   "file_extension": ".py",
   "mimetype": "text/x-python",
   "name": "python",
   "nbconvert_exporter": "python",
   "pygments_lexer": "ipython3",
   "version": "3.7.10"
  }
 },
 "nbformat": 4,
 "nbformat_minor": 5
}
