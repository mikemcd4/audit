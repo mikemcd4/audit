{
 "cells": [
  {
   "cell_type": "code",
   "execution_count": null,
   "id": "ba18dd18",
   "metadata": {},
   "outputs": [],
   "source": [
    "import pandas as pd"
   ]
  },
  {
   "cell_type": "code",
   "execution_count": null,
   "id": "5edfbc8d",
   "metadata": {},
   "outputs": [],
   "source": [
    "# MAKE SURE YOU HAVE CLEANED DATA BEFORE PROCEEDING, GO HERE FOR INSTRUCTIONS -\n",
    "# https://docs.google.com/document/d/1kx3fUo7jQEw3E7N8vc5IfVie6iHjs_BpnkeU588tUhs/edit?usp=sharing"
   ]
  },
  {
   "cell_type": "code",
   "execution_count": null,
   "id": "ff5c0981",
   "metadata": {},
   "outputs": [],
   "source": [
    "df = pd.read_csv('test.csv')"
   ]
  },
  {
   "cell_type": "code",
   "execution_count": null,
   "id": "93213052",
   "metadata": {},
   "outputs": [],
   "source": [
    "# Drop the columns\n",
    "df = df.drop(columns=['response', 'organizer', 'start', 'end'])\n",
    "# print(df)"
   ]
  },
  {
   "cell_type": "code",
   "execution_count": null,
   "id": "9fb0f182",
   "metadata": {},
   "outputs": [],
   "source": [
    "# Remove duplicates\n",
    "df = df.drop_duplicates()"
   ]
  },
  {
   "cell_type": "code",
   "execution_count": null,
   "id": "0d1d5793",
   "metadata": {},
   "outputs": [],
   "source": [
    "# Create boolean to delete non recurring meetings + ones with attendee is 1\n",
    "mask = (df['attendees'] == 1) | (df['recurring'] == 'no')"
   ]
  },
  {
   "cell_type": "code",
   "execution_count": null,
   "id": "2e4d0595",
   "metadata": {},
   "outputs": [],
   "source": [
    "# drop rows captured by boolean\n",
    "df.drop(df[mask].index, inplace=True)"
   ]
  },
  {
   "cell_type": "code",
   "execution_count": null,
   "id": "b6b0ae14",
   "metadata": {},
   "outputs": [],
   "source": [
    "# Drop the recurring column\n",
    "df = df.drop(columns=['recurring'])"
   ]
  },
  {
   "cell_type": "code",
   "execution_count": null,
   "id": "9de80b66",
   "metadata": {},
   "outputs": [],
   "source": [
    "# Create a new  1:1's DataFrame with rows where attendees is equal to 2\n",
    "new_df = df[df['attendees'] == 2]"
   ]
  },
  {
   "cell_type": "code",
   "execution_count": null,
   "id": "87261d89",
   "metadata": {},
   "outputs": [],
   "source": [
    "# Move the new 1:1's dataframe to a new file\n",
    "new_df.to_csv('test2.csv', index=False, index_label='One on Ones')"
   ]
  },
  {
   "cell_type": "code",
   "execution_count": null,
   "id": "df2f065b",
   "metadata": {},
   "outputs": [],
   "source": [
    "# Drop 1:1's from original file\n",
    "mask2 = (df['attendees'] == 2)"
   ]
  },
  {
   "cell_type": "code",
   "execution_count": null,
   "id": "8636f058",
   "metadata": {},
   "outputs": [],
   "source": [
    "df.drop(df[mask2].index, inplace=True)"
   ]
  },
  {
   "cell_type": "code",
   "execution_count": null,
   "id": "fa310c12",
   "metadata": {},
   "outputs": [],
   "source": [
    "# Sort recurring meetings sheet by cadence\n",
    "df = df.sort_values(by='recurrence')"
   ]
  },
  {
   "cell_type": "code",
   "execution_count": null,
   "id": "d68f1983",
   "metadata": {},
   "outputs": [],
   "source": [
    "# Sort 1:1's by cadence\n",
    "new_df = new_df.sort_values(by='recurrence')"
   ]
  },
  {
   "cell_type": "code",
   "execution_count": null,
   "id": "cea7db8a",
   "metadata": {},
   "outputs": [],
   "source": [
    "# Save 1:1's sheet\n",
    "new_df.to_csv('test2.csv', index=False)"
   ]
  },
  {
   "cell_type": "code",
   "execution_count": null,
   "id": "634ef3c1",
   "metadata": {},
   "outputs": [],
   "source": [
    "# Save recurring meetings sheet\n",
    "df.to_csv('test.csv', index=False)"
   ]
  },
  {
   "cell_type": "code",
   "execution_count": null,
   "id": "6b524016",
   "metadata": {},
   "outputs": [],
   "source": []
  }
 ],
 "metadata": {
  "kernelspec": {
   "display_name": "PythonData",
   "language": "python",
   "name": "pythondata"
  },
  "language_info": {
   "codemirror_mode": {
    "name": "ipython",
    "version": 3
   },
   "file_extension": ".py",
   "mimetype": "text/x-python",
   "name": "python",
   "nbconvert_exporter": "python",
   "pygments_lexer": "ipython3",
   "version": "3.7.10"
  }
 },
 "nbformat": 4,
 "nbformat_minor": 5
}
