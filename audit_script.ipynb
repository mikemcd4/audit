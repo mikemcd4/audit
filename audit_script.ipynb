{
 "cells": [
  {
   "cell_type": "code",
   "execution_count": null,
   "id": "ba18dd18",
   "metadata": {},
   "outputs": [],
   "source": [
    "import pandas as pd"
   ]
  },
  {
   "cell_type": "code",
   "execution_count": null,
   "id": "0c908524",
   "metadata": {},
   "outputs": [],
   "source": [
    "# MAKE SURE YOU HAVE CLEANED DATA BEFORE CONTINUING, AFTER EXPORTING CSV FROM CAL OVERVIEW, OPEN WITH EXCEL >\n",
    "# CLICK TOP LEFT BOX TO SELECT ALL DATA > UNDER \"HOME\" TAB, CLICK \"FIND & SELECT\", CLICK \"REPLACE\", \n",
    "# REPLACE COMMA WITH NOTHING > DATA TAB > TEXT TO COLUMNS > DELIMITER= OTHER (\")> SAVE"
   ]
  },
  {
   "cell_type": "code",
   "execution_count": null,
   "id": "caa2b7df",
   "metadata": {},
   "outputs": [],
   "source": [
    "df = pd.read_csv('test.csv')"
   ]
  },
  {
   "cell_type": "code",
   "execution_count": null,
   "id": "93213052",
   "metadata": {},
   "outputs": [],
   "source": [
    "# Drop the columns\n",
    "df = df.drop(columns=['response', 'organizer', 'start', 'end'])\n",
    "# print(df)"
   ]
  },
  {
   "cell_type": "code",
   "execution_count": null,
   "id": "81371237",
   "metadata": {},
   "outputs": [],
   "source": [
    "# Remove duplicates\n",
    "df = df.drop_duplicates()"
   ]
  },
  {
   "cell_type": "code",
   "execution_count": null,
   "id": "bff2ff3d",
   "metadata": {},
   "outputs": [],
   "source": [
    "# Select rows where attendees is not equal to 1\n",
    "#df = df.query(\"attendees != 1\")"
   ]
  },
  {
   "cell_type": "code",
   "execution_count": null,
   "id": "f83a3c5e",
   "metadata": {},
   "outputs": [],
   "source": [
    "# Select rows where recurring is not equal to no\n",
    "#df = df.query(\"recurring != 'no'\")"
   ]
  },
  {
   "cell_type": "code",
   "execution_count": null,
   "id": "d1e4916e",
   "metadata": {},
   "outputs": [],
   "source": [
    "# Create boolean to delete non recurring meetings + ones with attendee is 1\n",
    "mask = (df['attendees'] == 1) | (df['recurring'] == 'no')"
   ]
  },
  {
   "cell_type": "code",
   "execution_count": null,
   "id": "9e0d9063",
   "metadata": {},
   "outputs": [],
   "source": [
    "# drop rows captured by boolean\n",
    "df.drop(df[mask].index, inplace=True)"
   ]
  },
  {
   "cell_type": "code",
   "execution_count": null,
   "id": "183458c9",
   "metadata": {},
   "outputs": [],
   "source": [
    "# Drop the recurring column\n",
    "df = df.drop(columns=['recurring'])"
   ]
  },
  {
   "cell_type": "code",
   "execution_count": null,
   "id": "2b0b4bf2",
   "metadata": {},
   "outputs": [],
   "source": [
    "# Create a new  1:1's DataFrame with rows where attendees is equal to 2\n",
    "new_df = df[df['attendees'] == 2]"
   ]
  },
  {
   "cell_type": "code",
   "execution_count": null,
   "id": "787de0fe",
   "metadata": {},
   "outputs": [],
   "source": [
    "# Move the new 1:1's dataframe to a new file\n",
    "new_df.to_csv('test2.csv', index=False, index_label='One on Ones')"
   ]
  },
  {
   "cell_type": "code",
   "execution_count": null,
   "id": "821bdf9d",
   "metadata": {},
   "outputs": [],
   "source": [
    "# Drop 1:1's from original file\n",
    "mask2 = (df['attendees'] == 2)"
   ]
  },
  {
   "cell_type": "code",
   "execution_count": null,
   "id": "7ac08a64",
   "metadata": {},
   "outputs": [],
   "source": [
    "df.drop(df[mask2].index, inplace=True)"
   ]
  },
  {
   "cell_type": "code",
   "execution_count": null,
   "id": "46d6c67b",
   "metadata": {},
   "outputs": [],
   "source": [
    "# Sort recurring meetings sheet by cadence\n",
    "df = df.sort_values(by='recurrence')"
   ]
  },
  {
   "cell_type": "code",
   "execution_count": null,
   "id": "1f622d98",
   "metadata": {},
   "outputs": [],
   "source": [
    "# Sort 1:1's by cadence\n",
    "new_df = new_df.sort_values(by='recurrence')"
   ]
  },
  {
   "cell_type": "code",
   "execution_count": null,
   "id": "78810b45",
   "metadata": {},
   "outputs": [],
   "source": [
    "# Save 1:1's sheet\n",
    "new_df.to_csv('test2.csv', index=False)"
   ]
  },
  {
   "cell_type": "code",
   "execution_count": null,
   "id": "69cc1f9d",
   "metadata": {},
   "outputs": [],
   "source": [
    "# Save recurring meetings sheet\n",
    "df.to_csv('test.csv', index=False)"
   ]
  }
 ],
 "metadata": {
  "kernelspec": {
   "display_name": "PythonData",
   "language": "python",
   "name": "pythondata"
  },
  "language_info": {
   "codemirror_mode": {
    "name": "ipython",
    "version": 3
   },
   "file_extension": ".py",
   "mimetype": "text/x-python",
   "name": "python",
   "nbconvert_exporter": "python",
   "pygments_lexer": "ipython3",
   "version": "3.7.10"
  }
 },
 "nbformat": 4,
 "nbformat_minor": 5
}
