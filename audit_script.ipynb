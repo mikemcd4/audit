{
 "cells": [
  {
   "cell_type": "code",
   "execution_count": null,
   "id": "ba18dd18",
   "metadata": {},
   "outputs": [],
   "source": [
    "import pandas as pd"
   ]
  },
  {
   "cell_type": "code",
   "execution_count": null,
   "id": "4d25c478",
   "metadata": {},
   "outputs": [],
   "source": [
    "# MAKE SURE YOU HAVE CLEANED DATA BEFORE PROCEEDING, GO HERE FOR INSTRUCTIONS -\n",
    "# https://docs.google.com/document/d/1kx3fUo7jQEw3E7N8vc5IfVie6iHjs_BpnkeU588tUhs/edit?usp=sharing"
   ]
  },
  {
   "cell_type": "code",
   "execution_count": null,
   "id": "8cb3934a",
   "metadata": {},
   "outputs": [],
   "source": [
    "df = pd.read_csv('test.csv')"
   ]
  },
  {
   "cell_type": "code",
   "execution_count": null,
   "id": "93213052",
   "metadata": {},
   "outputs": [],
   "source": [
    "# Drop the columns\n",
    "df = df.drop(columns=['start', 'end'])\n",
    "# print(df)"
   ]
  },
  {
   "cell_type": "code",
   "execution_count": null,
   "id": "5201130c",
   "metadata": {},
   "outputs": [],
   "source": [
    "# Remove duplicates\n",
    "df = df.drop_duplicates()"
   ]
  },
  {
   "cell_type": "code",
   "execution_count": null,
   "id": "cc95985d",
   "metadata": {},
   "outputs": [],
   "source": [
    "# Create boolean to delete non recurring meetings + ones with attendee is 1\n",
    "mask = (df['attendees'] == 1) | (df['recurring'] == 'no')"
   ]
  },
  {
   "cell_type": "code",
   "execution_count": null,
   "id": "76a348f7",
   "metadata": {},
   "outputs": [],
   "source": [
    "# drop rows captured by boolean\n",
    "df.drop(df[mask].index, inplace=True)"
   ]
  },
  {
   "cell_type": "code",
   "execution_count": null,
   "id": "114bc75f",
   "metadata": {},
   "outputs": [],
   "source": [
    "# Drop the recurring column\n",
    "df = df.drop(columns=['recurring'])"
   ]
  },
  {
   "cell_type": "code",
   "execution_count": null,
   "id": "17a2545e",
   "metadata": {},
   "outputs": [],
   "source": [
    "# Create a new  1:1's DataFrame with rows where attendees is equal to 2\n",
    "new_df = df[df['attendees'] == 2]"
   ]
  },
  {
   "cell_type": "code",
   "execution_count": null,
   "id": "76507ad1",
   "metadata": {},
   "outputs": [],
   "source": [
    "# Move the new 1:1's dataframe to a new file\n",
    "new_df.to_csv('test2.csv', index=False, index_label='One on Ones')"
   ]
  },
  {
   "cell_type": "code",
   "execution_count": null,
   "id": "340fc2c3",
   "metadata": {},
   "outputs": [],
   "source": [
    "# Drop 1:1's from original file\n",
    "mask2 = (df['attendees'] == 2)"
   ]
  },
  {
   "cell_type": "code",
   "execution_count": null,
   "id": "4fbe6031",
   "metadata": {},
   "outputs": [],
   "source": [
    "df.drop(df[mask2].index, inplace=True)"
   ]
  },
  {
   "cell_type": "code",
   "execution_count": null,
   "id": "3d9283cc",
   "metadata": {},
   "outputs": [],
   "source": [
    "# Sort recurring meetings sheet by cadence\n",
    "df = df.sort_values(by='recurrence')"
   ]
  },
  {
   "cell_type": "code",
   "execution_count": null,
   "id": "97839623",
   "metadata": {},
   "outputs": [],
   "source": [
    "# Sort 1:1's by cadence\n",
    "new_df = new_df.sort_values(by='recurrence')"
   ]
  },
  {
   "cell_type": "code",
   "execution_count": null,
   "id": "0c797594",
   "metadata": {},
   "outputs": [],
   "source": [
    "# Save 1:1's sheet\n",
    "new_df.to_csv('test2.csv', index=False)"
   ]
  },
  {
   "cell_type": "code",
   "execution_count": null,
   "id": "82644b24",
   "metadata": {},
   "outputs": [],
   "source": [
    "# Save recurring meetings sheet\n",
    "df.to_csv('test.csv', index=False)"
   ]
  },
  {
   "cell_type": "code",
   "execution_count": null,
   "id": "a95d7e77",
   "metadata": {},
   "outputs": [],
   "source": []
  }
 ],
 "metadata": {
  "kernelspec": {
   "display_name": "PythonData",
   "language": "python",
   "name": "pythondata"
  },
  "language_info": {
   "codemirror_mode": {
    "name": "ipython",
    "version": 3
   },
   "file_extension": ".py",
   "mimetype": "text/x-python",
   "name": "python",
   "nbconvert_exporter": "python",
   "pygments_lexer": "ipython3",
   "version": "3.7.10"
  }
 },
 "nbformat": 4,
 "nbformat_minor": 5
}
