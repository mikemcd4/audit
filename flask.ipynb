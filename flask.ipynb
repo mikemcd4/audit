{
 "cells": [
  {
   "cell_type": "code",
   "execution_count": null,
   "id": "84a95fc4",
   "metadata": {},
   "outputs": [
    {
     "name": "stdout",
     "output_type": "stream",
     "text": [
      " * Serving Flask app \"__main__\" (lazy loading)\n",
      " * Environment: production\n",
      "   WARNING: This is a development server. Do not use it in a production deployment.\n",
      "   Use a production WSGI server instead.\n",
      " * Debug mode: off\n"
     ]
    },
    {
     "name": "stderr",
     "output_type": "stream",
     "text": [
      " * Running on http://127.0.0.1:5000/ (Press CTRL+C to quit)\n",
      "127.0.0.1 - - [22/Dec/2022 15:06:00] \"\u001b[33mGET / HTTP/1.1\u001b[0m\" 404 -\n",
      "127.0.0.1 - - [22/Dec/2022 15:06:00] \"\u001b[33mGET /favicon.ico HTTP/1.1\u001b[0m\" 404 -\n",
      "127.0.0.1 - - [22/Dec/2022 15:06:13] \"\u001b[33mGET / HTTP/1.1\u001b[0m\" 404 -\n",
      "127.0.0.1 - - [22/Dec/2022 15:06:59] \"\u001b[33mGET / HTTP/1.1\u001b[0m\" 404 -\n",
      "127.0.0.1 - - [22/Dec/2022 15:07:05] \"\u001b[31m\u001b[1mGET /upload HTTP/1.1\u001b[0m\" 405 -\n",
      "127.0.0.1 - - [22/Dec/2022 15:07:05] \"\u001b[33mGET /favicon.ico HTTP/1.1\u001b[0m\" 404 -\n",
      "127.0.0.1 - - [22/Dec/2022 15:07:50] \"\u001b[33mGET / HTTP/1.1\u001b[0m\" 404 -\n"
     ]
    }
   ],
   "source": [
    "import pandas as pd\n",
    "from flask import Flask, request\n",
    "\n",
    "app = Flask(__name__)\n",
    "\n",
    "@app.route('/upload', methods=['POST'])\n",
    "def upload():\n",
    "    # Check if a file was uploaded\n",
    "    if 'file' not in request.files:\n",
    "        return 'No file was uploaded.'\n",
    "\n",
    "    file = request.files['file']\n",
    "    # Check if the file has a CSV extension\n",
    "    if file.filename.rsplit('.', 1)[1].lower() != 'csv':\n",
    "        return 'Please upload a CSV file.'\n",
    "\n",
    "    # Read the CSV file into a pandas DataFrame\n",
    "    df = pd.read_csv(file)\n",
    "\n",
    "    # Drop the columns\n",
    "    df = df.drop(columns=['response', 'organizer', 'start', 'end'])\n",
    "\n",
    "    # Remove duplicates\n",
    "    df = df.drop_duplicates()\n",
    "\n",
    "    # Create boolean to delete non recurring meetings + ones with attendee is 1\n",
    "    mask = (df['attendees'] == 1) | (df['recurring'] == 'no')\n",
    "\n",
    "    # drop rows captured by boolean\n",
    "    df.drop(df[mask].index, inplace=True)\n",
    "\n",
    "    # Drop the recurring column\n",
    "    df = df.drop(columns=['recurring'])\n",
    "\n",
    "    # Create a new  1:1's DataFrame with rows where attendees is equal to 2\n",
    "    new_df = df[df['attendees'] == 2]\n",
    "\n",
    "    # Move the new 1:1's dataframe to a new file\n",
    "    new_df.to_csv('test2.csv', index=False, index_label='One on Ones')\n",
    "\n",
    "    # Drop 1:1's from original file\n",
    "    mask2 = (df['attendees'] == 2)\n",
    "\n",
    "    df.drop(df[mask2].index, inplace=True)\n",
    "\n",
    "    # Sort recurring meetings sheet by cadence\n",
    "    df = df.sort_values(by='recurrence')\n",
    "\n",
    "    # Sort 1:1's by cadence\n",
    "    new_df = new_df.sort_values(by='recurrence')\n",
    "\n",
    "    # Save 1:1's sheet\n",
    "    new_df.to_csv('test2.csv', index=False)\n",
    "\n",
    "    # Save recurring meetings sheet\n",
    "    df.to_csv('test.csv', index=False)\n",
    "    \n",
    "    return 'File processed successfully.'\n",
    "\n",
    "if __name__ == '__main__':\n",
    "    app.run()\n"
   ]
  },
  {
   "cell_type": "code",
   "execution_count": null,
   "id": "a48f7dc9",
   "metadata": {},
   "outputs": [],
   "source": []
  }
 ],
 "metadata": {
  "kernelspec": {
   "display_name": "PythonData",
   "language": "python",
   "name": "pythondata"
  },
  "language_info": {
   "codemirror_mode": {
    "name": "ipython",
    "version": 3
   },
   "file_extension": ".py",
   "mimetype": "text/x-python",
   "name": "python",
   "nbconvert_exporter": "python",
   "pygments_lexer": "ipython3",
   "version": "3.7.10"
  }
 },
 "nbformat": 4,
 "nbformat_minor": 5
}
